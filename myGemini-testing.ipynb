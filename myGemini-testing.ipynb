{
 "cells": [
  {
   "cell_type": "code",
   "execution_count": 1,
   "metadata": {},
   "outputs": [],
   "source": [
    "from myGemini import Agent"
   ]
  },
  {
   "cell_type": "code",
   "execution_count": 2,
   "metadata": {},
   "outputs": [
    {
     "name": "stdout",
     "output_type": "stream",
     "text": [
      "Hello! How can I help you today?\n"
     ]
    }
   ],
   "source": [
    "ag = Agent()\n",
    "\n",
    "ag.generate('hi there')"
   ]
  },
  {
   "cell_type": "code",
   "execution_count": 3,
   "metadata": {},
   "outputs": [
    {
     "name": "stdout",
     "output_type": "stream",
     "text": [
      "Ants are more closely related to wasps and bees than they are to beetles.\n"
     ]
    }
   ],
   "source": [
    "ag = Agent()\n",
    "\n",
    "ag.chat('tell me a random fact')"
   ]
  },
  {
   "cell_type": "code",
   "execution_count": 4,
   "metadata": {},
   "outputs": [
    {
     "name": "stdout",
     "output_type": "stream",
     "text": [
      "**Ants, Wasps, and Bees: Closely Related Hymenopterans**\n",
      "\n",
      "Ants, wasps, and bees are all members of the order Hymenoptera, which means \"membrane wings.\" This order includes over 150,000 species of insects, making it one of the largest and most diverse orders in the animal kingdom.\n",
      "\n",
      "Ants, wasps, and bees share a number of common characteristics, including:\n",
      "\n",
      "* **Two pairs of membranous wings:** The front wings are typically larger than the hind wings, and they are often held together by a series of hooks or clasps.\n",
      "* **A narrow waist:** The waist, or petiole, separates the thorax from the abdomen.\n",
      "* **Powerful mandibles:** The mandibles are used for biting and chewing food, as well as for defense.\n",
      "* **A social lifestyle:** Most ants, wasps, and bees live in colonies, which can range in size from a few dozen individuals to several million.\n",
      "\n",
      "Ants, wasps, and bees also share a common ancestor, which lived around 150 million years ago. Over time, this ancestor gave rise to three distinct lineages:\n",
      "\n",
      "* **Ants (Formicidae):** Ants are the most successful group of social insects, with over 12,000 known species. They are found on every continent except Antarctica, and they play an important role in many ecosystems.\n",
      "* **Wasps (Vespidae):** Wasps are a diverse group of insects that includes over 30,000 species. They are found all over the world, and they vary greatly in size, shape, and behavior.\n",
      "* **Bees (Apidae):** Bees are a group of social insects that are known for their ability to produce honey. There are over 20,000 species of bees, and they are found on every continent except Antarctica.\n",
      "\n",
      "Despite their differences, ants, wasps, and bees are all fascinating and important members of the insect world. They play a vital role in pollination, decomposition, and other ecological processes.\n"
     ]
    }
   ],
   "source": [
    "ag.chat('tell me more about that subject')"
   ]
  },
  {
   "cell_type": "code",
   "execution_count": 22,
   "metadata": {},
   "outputs": [
    {
     "name": "stdout",
     "output_type": "stream",
     "text": [
      "The result is 25.\n"
     ]
    }
   ],
   "source": [
    "def add(a:float, b:float):\n",
    "    \"\"\"returns a + b.\"\"\"\n",
    "    return a+b\n",
    "\n",
    "def subtract(a:float, b:float):\n",
    "    \"\"\"returns a - b.\"\"\"\n",
    "    return a-b\n",
    "\n",
    "def multiply(a:float, b:float):\n",
    "    \"\"\"returns a * b.\"\"\"\n",
    "    return a*b\n",
    "\n",
    "def divide(a:float, b:float):\n",
    "    \"\"\"returns a / b.\"\"\"\n",
    "    return a*b\n",
    "\n",
    "ag=Agent(tools=[add, subtract, multiply, divide])\n",
    "\n",
    "\n",
    "ag.chat('what is 10+15?',auto_funct_call=True)"
   ]
  },
  {
   "cell_type": "code",
   "execution_count": 26,
   "metadata": {},
   "outputs": [
    {
     "name": "stdout",
     "output_type": "stream",
     "text": [
      "OK. I found two theaters in Mountain View showing the Barbie movie: Googleplex 16 and Android Theatre.\n"
     ]
    }
   ],
   "source": [
    "def find_movies(description: str, location: str = ''):\n",
    "  \"\"\"find movie titles currently playing in theaters based on any description, genre, title words, etc.\n",
    "\n",
    "  Args:\n",
    "      description: Any kind of description including category or genre, title words, attributes, etc.\n",
    "      location: The city and state, e.g. San Francisco, CA or a zip code e.g. 95616\n",
    "  \"\"\"\n",
    "  return ['Barbie', 'Oppenheimer']\n",
    "\n",
    "def find_theaters(location: str, movie: str = ''):\n",
    "    \"\"\"Find theaters based on location and optionally movie title which are is currently playing in theaters.\n",
    "\n",
    "    Args:\n",
    "        location: The city and state, e.g. San Francisco, CA or a zip code e.g. 95616\n",
    "        movie: Any movie title\n",
    "    \"\"\"\n",
    "    return ['Googleplex 16', 'Android Theatre']\n",
    "\n",
    "def get_showtimes(location:str, movie:str, theater:str, date:str):\n",
    "    \"\"\"\n",
    "    Find the start times for movies playing in a specific theater.\n",
    "\n",
    "    Args:\n",
    "      location: The city and state, e.g. San Francisco, CA or a zip code e.g. 95616\n",
    "      movie: Any movie title\n",
    "      thearer: Name of the theater\n",
    "      date: Date for requested showtime\n",
    "    \"\"\"\n",
    "    return ['10:00', '11:00']\n",
    "\n",
    "\n",
    "functions = {\n",
    "    'find_movies': find_movies,\n",
    "    'find_theaters': find_theaters,\n",
    "    'get_showtimes': get_showtimes,\n",
    "}\n",
    "\n",
    "\n",
    "ag=Agent(tools=functions.values())\n",
    "\n",
    "\n",
    "ag.chat('Which theaters in Mountain View show the Barbie movie?',auto_funct_call=True)"
   ]
  }
 ],
 "metadata": {
  "kernelspec": {
   "display_name": "agi",
   "language": "python",
   "name": "python3"
  },
  "language_info": {
   "codemirror_mode": {
    "name": "ipython",
    "version": 3
   },
   "file_extension": ".py",
   "mimetype": "text/x-python",
   "name": "python",
   "nbconvert_exporter": "python",
   "pygments_lexer": "ipython3",
   "version": "3.11.8"
  }
 },
 "nbformat": 4,
 "nbformat_minor": 2
}
