{
 "cells": [
  {
   "cell_type": "code",
   "execution_count": 1,
   "metadata": {},
   "outputs": [
    {
     "name": "stdout",
     "output_type": "stream",
     "text": [
      "In the realm of Eldoria, where mystical forests whispered secrets and ancient ruins held forgotten lore, there lived a young adventurer named Anya. With her fiery red hair and a heart brimming with curiosity, she embarked on a perilous quest to uncover the lost city of Valoria.\n",
      "\n",
      "Legends spoke of Valoria as a haven of knowledge and wonders, hidden deep within the treacherous Shadow Woods. Anya gathered a ragtag group of companions: Ethan, a skilled ranger with an uncanny knack for tracking, and Lyra, a wise mage whose spells could illuminate the darkest paths.\n",
      "\n",
      "Together, they ventured into the sinister depths of the forest, where towering trees cast long shadows and the air hung heavy with ancient magic. As they pressed forward, Anya's keen eyes detected faint runes etched into the bark of an ancient oak. With Lyra's guidance, she deciphered their meaning, revealing a secret path leading to the lost city.\n",
      "\n",
      "Through winding tunnels and crumbling walls, they navigated the ancient ruins of Valoria. Within its grand halls, they marveled at intricate tapestries depicting forgotten battles and stumbled upon a vast library containing countless scrolls holding secrets of bygone eras.\n",
      "\n",
      "Anya's insatiable thirst for knowledge led her to a hidden chamber where she found a shimmering orb. Curiosity overcame her as she reached out to touch it, and in that instant, the orb pulsated with an ethereal light, flooding her mind with forgotten memories.\n",
      "\n",
      "She witnessed the rise and fall of Valoria, its golden age of discovery, and its tragic destruction by an unknown force. As the visions faded, Anya realized that the orb held the key to the city's lost glory.\n",
      "\n",
      "Inspired by her newfound knowledge, Anya rallied her companions and together they devised a plan to restore Valoria to its former splendor. They confronted the ancient evil that had plagued the city, and after a fierce battle, they triumphed.\n",
      "\n",
      "With Valoria reborn, Anya became its protector, using the wisdom she had gained to guide its people into a new era of enlightenment. And so, the legend of Anya, the adventurer who rediscovered the lost city and shaped its destiny, was passed down through generations, inspiring countless hearts to seek adventure and embrace the boundless realms of possibility.\n"
     ]
    }
   ],
   "source": [
    "import google.generativeai as genai\n",
    "\n",
    "model = genai.GenerativeModel('gemini-1.0-pro-latest')\n",
    "response = model.generate_content(\"tell me a story\")\n",
    "print(response.text)"
   ]
  },
  {
   "cell_type": "code",
   "execution_count": 2,
   "metadata": {},
   "outputs": [
    {
     "data": {
      "text/plain": [
       "'There are 2508 mittens in total.'"
      ]
     },
     "execution_count": 2,
     "metadata": {},
     "output_type": "execute_result"
    }
   ],
   "source": [
    "def add(a:float, b:float):\n",
    "    \"\"\"returns a + b.\"\"\"\n",
    "    return a+b\n",
    "\n",
    "def subtract(a:float, b:float):\n",
    "    \"\"\"returns a - b.\"\"\"\n",
    "    return a-b\n",
    "\n",
    "def multiply(a:float, b:float):\n",
    "    \"\"\"returns a * b.\"\"\"\n",
    "    return a*b\n",
    "\n",
    "def divide(a:float, b:float):\n",
    "    \"\"\"returns a / b.\"\"\"\n",
    "    return a*b\n",
    "\n",
    "model = genai.GenerativeModel(model_name='gemini-1.0-pro',\n",
    "                              tools=[add, subtract, multiply, divide])\n",
    "\n",
    "\n",
    "chat = model.start_chat(enable_automatic_function_calling=True)\n",
    "\n",
    "\n",
    "response = chat.send_message('I have 57 cats, each owns 44 mittens, how many mittens is that in total?')\n",
    "response.text\n"
   ]
  },
  {
   "cell_type": "code",
   "execution_count": 3,
   "metadata": {},
   "outputs": [
    {
     "name": "stdout",
     "output_type": "stream",
     "text": [
      "user -> [{'text': 'I have 57 cats, each owns 44 mittens, how many mittens is that in total?'}]\n",
      "--------------------------------------------------------------------------------\n",
      "model -> [{'function_call': {'name': 'multiply', 'args': {'a': 57.0, 'b': 44.0}}}]\n",
      "--------------------------------------------------------------------------------\n",
      "user -> [{'function_response': {'name': 'multiply', 'response': {'result': 2508.0}}}]\n",
      "--------------------------------------------------------------------------------\n",
      "model -> [{'text': 'There are 2508 mittens in total.'}]\n",
      "--------------------------------------------------------------------------------\n"
     ]
    }
   ],
   "source": [
    "for content in chat.history:\n",
    "    print(content.role, \"->\", [type(part).to_dict(part) for part in content.parts])\n",
    "    print('-'*80)\n",
    "     "
   ]
  },
  {
   "cell_type": "code",
   "execution_count": 4,
   "metadata": {},
   "outputs": [
    {
     "data": {
      "text/plain": [
       "[function_call {\n",
       "  name: \"find_theaters\"\n",
       "  args {\n",
       "    fields {\n",
       "      key: \"movie\"\n",
       "      value {\n",
       "        string_value: \"Barbie\"\n",
       "      }\n",
       "    }\n",
       "    fields {\n",
       "      key: \"location\"\n",
       "      value {\n",
       "        string_value: \"Mountain View, CA\"\n",
       "      }\n",
       "    }\n",
       "  }\n",
       "}\n",
       "]"
      ]
     },
     "execution_count": 4,
     "metadata": {},
     "output_type": "execute_result"
    }
   ],
   "source": [
    "def find_movies(description: str, location: str = ''):\n",
    "  \"\"\"find movie titles currently playing in theaters based on any description, genre, title words, etc.\n",
    "\n",
    "  Args:\n",
    "      description: Any kind of description including category or genre, title words, attributes, etc.\n",
    "      location: The city and state, e.g. San Francisco, CA or a zip code e.g. 95616\n",
    "  \"\"\"\n",
    "  return ['Barbie', 'Oppenheimer']\n",
    "\n",
    "def find_theaters(location: str, movie: str = ''):\n",
    "    \"\"\"Find theaters based on location and optionally movie title which are is currently playing in theaters.\n",
    "\n",
    "    Args:\n",
    "        location: The city and state, e.g. San Francisco, CA or a zip code e.g. 95616\n",
    "        movie: Any movie title\n",
    "    \"\"\"\n",
    "    return ['Googleplex 16', 'Android Theatre']\n",
    "\n",
    "def get_showtimes(location:str, movie:str, theater:str, date:str):\n",
    "    \"\"\"\n",
    "    Find the start times for movies playing in a specific theater.\n",
    "\n",
    "    Args:\n",
    "      location: The city and state, e.g. San Francisco, CA or a zip code e.g. 95616\n",
    "      movie: Any movie title\n",
    "      thearer: Name of the theater\n",
    "      date: Date for requested showtime\n",
    "    \"\"\"\n",
    "    return ['10:00', '11:00']\n",
    "\n",
    "\n",
    "functions = {\n",
    "    'find_movies': find_movies,\n",
    "    'find_theaters': find_theaters,\n",
    "    'get_showtimes': get_showtimes,\n",
    "}\n",
    "\n",
    "model = genai.GenerativeModel(model_name='gemini-1.0-pro',\n",
    "                              tools=functions.values())\n",
    "     \n",
    "\n",
    "response = model.generate_content('Which theaters in Mountain View show the Barbie movie?')\n",
    "response.candidates[0].content.parts"
   ]
  },
  {
   "cell_type": "code",
   "execution_count": 5,
   "metadata": {},
   "outputs": [
    {
     "name": "stdout",
     "output_type": "stream",
     "text": [
      "['Googleplex 16', 'Android Theatre']\n"
     ]
    }
   ],
   "source": [
    "def call_function(function_call, functions):\n",
    "  function_name = function_call.name\n",
    "  function_args = function_call.args\n",
    "  return functions[function_name](**function_args)\n",
    "\n",
    "part = response.candidates[0].content.parts[0]\n",
    "\n",
    "# Check if it's a function call; in real use you'd need to also handle text\n",
    "# responses as you won't know what the model will respond with.\n",
    "if part.function_call:\n",
    "  result = call_function(part.function_call, functions)\n",
    "\n",
    "print(result)"
   ]
  },
  {
   "cell_type": "code",
   "execution_count": 6,
   "metadata": {},
   "outputs": [
    {
     "name": "stdout",
     "output_type": "stream",
     "text": [
      "OK. I found two theaters in Mountain View showing the Barbie movie: Googleplex 16 and Android Theatre.\n"
     ]
    }
   ],
   "source": [
    "\n",
    "import google.ai.generativelanguage as glm\n",
    "from google.protobuf.struct_pb2 import Struct\n",
    "\n",
    "# Put the result in a protobuf Struct\n",
    "s = Struct()\n",
    "s.update({'result': result})\n",
    "\n",
    "# Update this after https://github.com/google/generative-ai-python/issues/243\n",
    "function_response = glm.Part(\n",
    "    function_response=glm.FunctionResponse(name='find_theaters', response=s))\n",
    "\n",
    "# Build the message history\n",
    "messages = [\n",
    "    {'role':'user',\n",
    "     'parts': ['Which theaters in Mountain View show the Barbie movie?.']},\n",
    "    {'role':'model',\n",
    "     'parts': response.candidates[0].content.parts},\n",
    "    {'role':'user',\n",
    "     'parts': [function_response]}\n",
    "]\n",
    "\n",
    "# Generate the next response\n",
    "response = model.generate_content(messages)\n",
    "print(response.text)\n",
    "     "
   ]
  }
 ],
 "metadata": {
  "kernelspec": {
   "display_name": "agi",
   "language": "python",
   "name": "python3"
  },
  "language_info": {
   "codemirror_mode": {
    "name": "ipython",
    "version": 3
   },
   "file_extension": ".py",
   "mimetype": "text/x-python",
   "name": "python",
   "nbconvert_exporter": "python",
   "pygments_lexer": "ipython3",
   "version": "3.11.8"
  }
 },
 "nbformat": 4,
 "nbformat_minor": 2
}
