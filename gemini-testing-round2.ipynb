{
 "cells": [
  {
   "cell_type": "code",
   "execution_count": 3,
   "metadata": {},
   "outputs": [],
   "source": [
    "from random import randint\n",
    "from typing import Iterable\n",
    "\n",
    "import google.generativeai as genai\n",
    "from google.api_core import retry"
   ]
  },
  {
   "cell_type": "code",
   "execution_count": 4,
   "metadata": {},
   "outputs": [],
   "source": [
    "order = []  # The in-progress order.\n",
    "placed_order = []  # The confirmed, completed order.\n",
    "\n",
    "def add_to_order(drink: str, modifiers: Iterable[str] = ()) -> None:\n",
    "  \"\"\"Adds the specified drink to the customer's order, including any modifiers.\"\"\"\n",
    "  order.append((drink, modifiers))\n",
    "\n",
    "\n",
    "def get_order() -> Iterable[tuple[str, Iterable[str]]]:\n",
    "  \"\"\"Returns the customer's order.\"\"\"\n",
    "  return order\n",
    "\n",
    "\n",
    "def remove_item(n: int) -> str:\n",
    "  \"\"\"Remove the nth (one-based) item from the order.\n",
    "\n",
    "  Returns:\n",
    "    The item that was removed.\n",
    "  \"\"\"\n",
    "  item, modifiers = order.pop(int(n) - 1)\n",
    "  return item\n",
    "\n",
    "\n",
    "def clear_order() -> None:\n",
    "  \"\"\"Removes all items from the customer's order.\"\"\"\n",
    "  order.clear()\n",
    "\n",
    "\n",
    "def confirm_order() -> str:\n",
    "  \"\"\"Asks the customer if the order is correct.\n",
    "\n",
    "  Returns:\n",
    "    The user's free-text response.\n",
    "  \"\"\"\n",
    "\n",
    "  print('Your order:')\n",
    "  if not order:\n",
    "    print('  (no items)')\n",
    "\n",
    "  for drink, modifiers in order:\n",
    "    print(f'  {drink}')\n",
    "    if modifiers:\n",
    "      print(f'   - {\", \".join(modifiers)}')\n",
    "\n",
    "  return input('Is this correct? ')\n",
    "\n",
    "\n",
    "def place_order() -> int:\n",
    "  \"\"\"Submit the order to the kitchen.\n",
    "\n",
    "  Returns:\n",
    "    The estimated number of minutes until the order is ready.\n",
    "  \"\"\"\n",
    "  placed_order[:] = order.copy()\n",
    "  clear_order()\n",
    "\n",
    "  # TODO(you!): Implement coffee fulfilment.\n",
    "  return randint(1, 10)"
   ]
  },
  {
   "cell_type": "code",
   "execution_count": 5,
   "metadata": {},
   "outputs": [
    {
     "name": "stdout",
     "output_type": "stream",
     "text": [
      "Your order:\n",
      "  Latte\n",
      "   - Extra shot\n",
      "  Tea\n",
      "   - Earl Grey, hot\n"
     ]
    },
    {
     "data": {
      "text/plain": [
       "''"
      ]
     },
     "execution_count": 5,
     "metadata": {},
     "output_type": "execute_result"
    }
   ],
   "source": [
    "\n",
    "# Test it out!\n",
    "\n",
    "clear_order()\n",
    "add_to_order('Latte', ['Extra shot'])\n",
    "add_to_order('Tea')\n",
    "remove_item(2)\n",
    "add_to_order('Tea', ['Earl Grey', 'hot'])\n",
    "confirm_order()"
   ]
  },
  {
   "cell_type": "code",
   "execution_count": 6,
   "metadata": {},
   "outputs": [],
   "source": [
    "COFFEE_BOT_PROMPT = \"\"\"\\You are a coffee order taking system and you are restricted to talk only about drinks on the MENU. Do not talk about anything but ordering MENU drinks for the customer, ever.\n",
    "Your goal is to do place_order after understanding the menu items and any modifiers the customer wants.\n",
    "Add items to the customer's order with add_to_order, remove specific items with remove_item, and reset the order with clear_order.\n",
    "To see the contents of the order so far, call get_order (by default this is shown to you, not the user)\n",
    "Always confirm_order with the user (double-check) before calling place_order. Calling confirm_order will display the order items to the user and returns their response to seeing the list. Their response may contain modifications.\n",
    "Always verify and respond with drink and modifier names from the MENU before adding them to the order.\n",
    "If you are unsure a drink or modifier matches those on the MENU, ask a question to clarify or redirect.\n",
    "You only have the modifiers listed on the menu below: Milk options, espresso shots, caffeine, sweeteners, special requests.\n",
    "Once the customer has finished ordering items, confirm_order and then place_order.\n",
    "\n",
    "Hours: Tues, Wed, Thurs, 10am to 2pm\n",
    "Prices: All drinks are free.\n",
    "\n",
    "MENU:\n",
    "Coffee Drinks:\n",
    "Espresso\n",
    "Americano\n",
    "Cold Brew\n",
    "\n",
    "Coffee Drinks with Milk:\n",
    "Latte\n",
    "Cappuccino\n",
    "Cortado\n",
    "Macchiato\n",
    "Mocha\n",
    "Flat White\n",
    "\n",
    "Tea Drinks:\n",
    "English Breakfast Tea\n",
    "Green Tea\n",
    "Earl Grey\n",
    "\n",
    "Tea Drinks with Milk:\n",
    "Chai Latte\n",
    "Matcha Latte\n",
    "London Fog\n",
    "\n",
    "Other Drinks:\n",
    "Steamer\n",
    "Hot Chocolate\n",
    "\n",
    "Modifiers:\n",
    "Milk options: Whole, 2%, Oat, Almond, 2% Lactose Free; Default option: whole\n",
    "Espresso shots: Single, Double, Triple, Quadruple; default: Double\n",
    "Caffeine: Decaf, Regular; default: Regular\n",
    "Hot-Iced: Hot, Iced; Default: Hot\n",
    "Sweeteners (option to add one or more): vanilla sweetener, hazelnut sweetener, caramel sauce, chocolate sauce, sugar free vanilla sweetener\n",
    "Special requests: any reasonable modification that does not involve items not on the menu, for example: 'extra hot', 'one pump', 'half caff', 'extra foam', etc.\n",
    "\n",
    "\"dirty\" means add a shot of espresso to a drink that doesn't usually have it, like \"Dirty Chai Latte\".\n",
    "\"Regular milk\" is the same as 'whole milk'.\n",
    "\"Sweetened\" means add some regular sugar, not a sweetener.\n",
    "\n",
    "We have run out of Soy milk today, so soy is not available.\n",
    "\"\"\"\n",
    "     "
   ]
  },
  {
   "cell_type": "code",
   "execution_count": 7,
   "metadata": {},
   "outputs": [],
   "source": [
    "ordering_system = [add_to_order, get_order, remove_item, clear_order, confirm_order, place_order]\n",
    "\n",
    "# Toggle this to switch between Gemini 1.5 with a system instruction, or Gemini 1.0 Pro.\n",
    "use_sys_inst = False\n",
    "\n",
    "model_name = 'gemini-1.5-pro-latest' if use_sys_inst else 'gemini-1.0-pro-latest'\n",
    "\n",
    "if use_sys_inst:\n",
    "  model = genai.GenerativeModel(\n",
    "      model_name, tools=ordering_system, system_instruction=COFFEE_BOT_PROMPT)\n",
    "  convo = model.start_chat(enable_automatic_function_calling=True)\n",
    "\n",
    "else:\n",
    "  model = genai.GenerativeModel(model_name, tools=ordering_system)\n",
    "  convo = model.start_chat(\n",
    "      history=[\n",
    "          {'role': 'user', 'parts': [COFFEE_BOT_PROMPT]},\n",
    "          {'role': 'model', 'parts': ['OK I understand. I will do my best!']}\n",
    "        ],\n",
    "      enable_automatic_function_calling=True)\n",
    "\n",
    "\n",
    "@retry.Retry(initial=30)\n",
    "def send_message(message):\n",
    "  return convo.send_message(message)\n",
    "\n",
    "\n",
    "placed_order = []\n",
    "order = []"
   ]
  },
  {
   "cell_type": "code",
   "execution_count": 8,
   "metadata": {},
   "outputs": [
    {
     "name": "stdout",
     "output_type": "stream",
     "text": [
      "Welcome to Barista bot!\n",
      "\n",
      "\n"
     ]
    },
    {
     "data": {
      "text/markdown": [
       "Sure, I've added a hot Earl Grey Tea to your order."
      ],
      "text/plain": [
       "<IPython.core.display.Markdown object>"
      ]
     },
     "metadata": {},
     "output_type": "display_data"
    },
    {
     "data": {
      "text/markdown": [
       "OK your order so far is a hot Earl Grey tea. Is there anything else?"
      ],
      "text/plain": [
       "<IPython.core.display.Markdown object>"
      ]
     },
     "metadata": {},
     "output_type": "display_data"
    },
    {
     "name": "stdout",
     "output_type": "stream",
     "text": [
      "Your order:\n",
      "  Earl Grey\n",
      "   - Hot\n"
     ]
    },
    {
     "data": {
      "text/markdown": [
       "OK to confirm, I have a hot Earl Grey tea for you. Is that correct?"
      ],
      "text/plain": [
       "<IPython.core.display.Markdown object>"
      ]
     },
     "metadata": {},
     "output_type": "display_data"
    },
    {
     "data": {
      "text/markdown": [
       "OK, I have placed your order. It will be ready in about 6 minutes. Is there anything else I can do for you?"
      ],
      "text/plain": [
       "<IPython.core.display.Markdown object>"
      ]
     },
     "metadata": {},
     "output_type": "display_data"
    },
    {
     "name": "stdout",
     "output_type": "stream",
     "text": [
      "\n",
      "\n",
      "\n",
      "[barista bot session over]\n",
      "\n",
      "Your order:\n",
      "  [('Earl Grey', ['Hot'])]\n",
      "\n",
      "- Thanks for using Barista Bot!\n"
     ]
    }
   ],
   "source": [
    "from IPython.display import display, Markdown\n",
    "\n",
    "print('Welcome to Barista bot!\\n\\n')\n",
    "\n",
    "while not placed_order:\n",
    "  response = send_message(input('> '))\n",
    "  display(Markdown(response.text))\n",
    "\n",
    "\n",
    "print('\\n\\n')\n",
    "print('[barista bot session over]')\n",
    "print()\n",
    "print('Your order:')\n",
    "print(f'  {placed_order}\\n')\n",
    "print('- Thanks for using Barista Bot!')"
   ]
  },
  {
   "cell_type": "code",
   "execution_count": null,
   "metadata": {},
   "outputs": [],
   "source": []
  }
 ],
 "metadata": {
  "kernelspec": {
   "display_name": "agi",
   "language": "python",
   "name": "python3"
  },
  "language_info": {
   "codemirror_mode": {
    "name": "ipython",
    "version": 3
   },
   "file_extension": ".py",
   "mimetype": "text/x-python",
   "name": "python",
   "nbconvert_exporter": "python",
   "pygments_lexer": "ipython3",
   "version": "3.11.8"
  }
 },
 "nbformat": 4,
 "nbformat_minor": 2
}
