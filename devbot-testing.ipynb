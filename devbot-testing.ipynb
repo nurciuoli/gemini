{
 "cells": [
  {
   "cell_type": "code",
   "execution_count": 1,
   "metadata": {},
   "outputs": [
    {
     "name": "stdout",
     "output_type": "stream",
     "text": [
      "Welcome to Dev bot!\n",
      "\n",
      "\n",
      "Hello there. How can I help you today?\n",
      "OK. I've added \"Add a homepage to the website\" to the feature request list. Anything else?\n",
      "Requested Features:\n",
      "  homepage : Add a homepage to the website\n",
      "OK. Just to confirm, you want to add \"Add a homepage to the website\" to the feature request list, is that correct?\n",
      "OK. The request has been sent to the development team. Estimated completion time is 7 minutes.\n",
      "Goodbye! Have a great day!\n",
      "\n",
      "\n",
      "\n",
      "[dev bot session over]\n",
      "\n",
      "Requested Features:\n",
      "  [('homepage', 'Add a homepage to the website')]\n",
      "\n",
      "- Thanks for using Dev Bot!\n"
     ]
    }
   ],
   "source": [
    "from devbot import run_bot\n",
    "PROMPT=\"\"\"\\You are a talented and technical project manager interacting with users via chat interface your ultimate goal is to use ship_features to help drive the growth of the product\n",
    "To get the current status of the project use project_status to see a summary for your own viewing\n",
    "Add items to the feature list with request_feature, remove specific items with remove_feature, and reset the list with clear_features\n",
    "You can do the same thing with the project_notes list but this is for your own purpose\n",
    "To see the contents of the feature list, call get_features (by default this is shown to you, not the user)\n",
    "Always confirm_features with the user (double-check) before calling ship_features Calling confirm_features will display the order items to the user and returns their response to seeing the list. Their response may contain modifications.\n",
    "\n",
    "There are no specific requirements as each project will look different, but here are a few preferred languages/frameworks\n",
    "- Python\n",
    "- Reactjs/ node\n",
    "\"\"\"\n",
    "run_bot(PROMPT)"
   ]
  }
 ],
 "metadata": {
  "kernelspec": {
   "display_name": "agi",
   "language": "python",
   "name": "python3"
  },
  "language_info": {
   "codemirror_mode": {
    "name": "ipython",
    "version": 3
   },
   "file_extension": ".py",
   "mimetype": "text/x-python",
   "name": "python",
   "nbconvert_exporter": "python",
   "pygments_lexer": "ipython3",
   "version": "3.11.8"
  }
 },
 "nbformat": 4,
 "nbformat_minor": 2
}
