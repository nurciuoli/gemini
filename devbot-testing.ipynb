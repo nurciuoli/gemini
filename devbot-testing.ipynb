{
 "cells": [
  {
   "cell_type": "code",
   "execution_count": 1,
   "metadata": {},
   "outputs": [
    {
     "name": "stdout",
     "output_type": "stream",
     "text": [
      "Welcome to Dev bot!\n",
      "\n",
      "\n",
      "OK, what is the project about?\n",
      "OK. First, let's make a list of features we want to include:\n",
      "OK. Anything else?\n",
      "Requested Features:\n",
      "  user_guessing_game : user guesses a random number and random number genator decides if they win\n",
      "import random\\n\\ndef guess_number():\\n    # Generate a random number between 1 and 99\\n    number = random.randint(1, 99)\\n\\n    # Get the user's guess\\n    guess = int(input(\\\"Guess a number between 1 and 99: \\\"))\\n\\n    # Check if the user's guess is correct\\n    if guess == number:\\n        print(\\\"You guessed the correct number!\\\")\\n    else:\\n        print(\\\"Sorry, you didn't guess the correct number. The number was \\\" + str(number) + \\\".\\\")\\n\\n\\n# Call the guess_number() function\\nguess_number()\n",
      "session terminate\n"
     ]
    }
   ],
   "source": [
    "from devbot import run_bot\n",
    "PROMPT=\"\"\"\\You are a talented and technical project manager interacting with users via chat interface\n",
    "As a project manager, your goal is to iterate so follow this general cycle:\n",
    "1. Status - Get the current status of the project using project_status, if there is nothing yet ask the user what the project should be about\n",
    "2. Scope - Once the project objective has been identified, work with the user to identify specific features to add\n",
    "3. Build - Once the features have been confirmed with confirm_features, build out the necessary files\n",
    "4. Check - Talk with the user and repeat cycle as many times until the user says goodbye, then use say_goodbye\n",
    "\n",
    "You have three lists at your disposal:\n",
    "1. Project notes - Some context and notes on the current project : Maintain the list with add_project_note,remove_project_note\n",
    "2. Feature List - features to include in the next realese: use request_feature, get_features, remove_feature, clear_features to modify \n",
    "3. Project Files - Files currently in the project dir : use add_to_file,overwrite_file,delete_file,check_file_contents for file mgt\n",
    "\n",
    "There are no specific requirements as each project will look different, but here are a few preferred languages/frameworks\n",
    "- Python\n",
    "- Reactjs/ node\n",
    "\"\"\"\n",
    "run_bot(PROMPT)"
   ]
  },
  {
   "cell_type": "code",
   "execution_count": null,
   "metadata": {},
   "outputs": [],
   "source": [
    "with open(\"testing.py\", \"w\") as file:  # Use \"w\" for writing only\n",
    "    file.writelines(\"this is a test /n this ia test \\n this is a test\")  # Write the string directly"
   ]
  },
  {
   "cell_type": "code",
   "execution_count": null,
   "metadata": {},
   "outputs": [],
   "source": [
    "from devbot import add_to_file\n",
    "\n",
    "add_to_file('testing.py',\"this is a test /n this ia test \\n this is a test\")"
   ]
  },
  {
   "cell_type": "code",
   "execution_count": null,
   "metadata": {},
   "outputs": [],
   "source": [
    "test_string = \"import random\\n\\n# Get a random number between 1 and 100\\nsecret_number = random.randint(1, 100)\\n\\n# Get the user's guess\\nguess = int(input(\\\"Guess a number between 1 and 100: \\\"))\\n\\n# Check if the guess is correct\\nif guess == secret_number:\\n    print(\\\"You win!\\\")\\nelse:\\n    print(\\\"You lose!\\\")\"\n",
    "\n",
    "test_string"
   ]
  },
  {
   "cell_type": "code",
   "execution_count": null,
   "metadata": {},
   "outputs": [],
   "source": [
    "str(test_string)"
   ]
  },
  {
   "cell_type": "code",
   "execution_count": null,
   "metadata": {},
   "outputs": [],
   "source": [
    "str(test_string.replace(\"\\n\\n\", \"\\n\"))"
   ]
  },
  {
   "cell_type": "code",
   "execution_count": null,
   "metadata": {},
   "outputs": [],
   "source": []
  }
 ],
 "metadata": {
  "kernelspec": {
   "display_name": "agi",
   "language": "python",
   "name": "python3"
  },
  "language_info": {
   "codemirror_mode": {
    "name": "ipython",
    "version": 3
   },
   "file_extension": ".py",
   "mimetype": "text/x-python",
   "name": "python",
   "nbconvert_exporter": "python",
   "pygments_lexer": "ipython3",
   "version": "3.11.8"
  }
 },
 "nbformat": 4,
 "nbformat_minor": 2
}
